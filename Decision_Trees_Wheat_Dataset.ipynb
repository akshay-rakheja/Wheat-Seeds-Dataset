{
 "cells": [
  {
   "cell_type": "code",
   "execution_count": 1,
   "id": "employed-collector",
   "metadata": {},
   "outputs": [],
   "source": [
    "import numpy as np\n",
    "import pandas as pd\n",
    "import matplotlib.pyplot as plt\n",
    "import seaborn as sns\n",
    "from sklearn.preprocessing import MinMaxScaler\n",
    "from sklearn.model_selection import train_test_split"
   ]
  },
  {
   "cell_type": "code",
   "execution_count": 2,
   "id": "verbal-korean",
   "metadata": {},
   "outputs": [
    {
     "name": "stderr",
     "output_type": "stream",
     "text": [
      "b'Skipping line 8: expected 8 fields, saw 10\\nSkipping line 36: expected 8 fields, saw 10\\nSkipping line 61: expected 8 fields, saw 9\\nSkipping line 69: expected 8 fields, saw 9\\nSkipping line 107: expected 8 fields, saw 9\\nSkipping line 136: expected 8 fields, saw 9\\nSkipping line 170: expected 8 fields, saw 9\\nSkipping line 171: expected 8 fields, saw 9\\nSkipping line 173: expected 8 fields, saw 9\\nSkipping line 202: expected 8 fields, saw 9\\nSkipping line 204: expected 8 fields, saw 9\\n'\n"
     ]
    },
    {
     "data": {
      "text/html": [
       "<div>\n",
       "<style scoped>\n",
       "    .dataframe tbody tr th:only-of-type {\n",
       "        vertical-align: middle;\n",
       "    }\n",
       "\n",
       "    .dataframe tbody tr th {\n",
       "        vertical-align: top;\n",
       "    }\n",
       "\n",
       "    .dataframe thead th {\n",
       "        text-align: right;\n",
       "    }\n",
       "</style>\n",
       "<table border=\"1\" class=\"dataframe\">\n",
       "  <thead>\n",
       "    <tr style=\"text-align: right;\">\n",
       "      <th></th>\n",
       "      <th>area</th>\n",
       "      <th>perimeter</th>\n",
       "      <th>compactness</th>\n",
       "      <th>length_kernel</th>\n",
       "      <th>width_kernel</th>\n",
       "      <th>asymmetry_coeff</th>\n",
       "      <th>length_of_kernel_groove</th>\n",
       "      <th>target</th>\n",
       "    </tr>\n",
       "  </thead>\n",
       "  <tbody>\n",
       "    <tr>\n",
       "      <th>count</th>\n",
       "      <td>158.000000</td>\n",
       "      <td>158.000000</td>\n",
       "      <td>158.000000</td>\n",
       "      <td>158.000000</td>\n",
       "      <td>158.000000</td>\n",
       "      <td>158.000000</td>\n",
       "      <td>158.000000</td>\n",
       "      <td>158.000000</td>\n",
       "    </tr>\n",
       "    <tr>\n",
       "      <th>mean</th>\n",
       "      <td>14.893038</td>\n",
       "      <td>14.578924</td>\n",
       "      <td>0.871801</td>\n",
       "      <td>5.635443</td>\n",
       "      <td>3.264778</td>\n",
       "      <td>3.668158</td>\n",
       "      <td>5.407513</td>\n",
       "      <td>1.968354</td>\n",
       "    </tr>\n",
       "    <tr>\n",
       "      <th>std</th>\n",
       "      <td>2.851388</td>\n",
       "      <td>1.285563</td>\n",
       "      <td>0.023034</td>\n",
       "      <td>0.442427</td>\n",
       "      <td>0.368206</td>\n",
       "      <td>1.418280</td>\n",
       "      <td>0.498740</td>\n",
       "      <td>0.817179</td>\n",
       "    </tr>\n",
       "    <tr>\n",
       "      <th>min</th>\n",
       "      <td>10.740000</td>\n",
       "      <td>12.570000</td>\n",
       "      <td>0.808100</td>\n",
       "      <td>4.902000</td>\n",
       "      <td>2.630000</td>\n",
       "      <td>0.903000</td>\n",
       "      <td>4.519000</td>\n",
       "      <td>1.000000</td>\n",
       "    </tr>\n",
       "    <tr>\n",
       "      <th>25%</th>\n",
       "      <td>12.315000</td>\n",
       "      <td>13.470000</td>\n",
       "      <td>0.857600</td>\n",
       "      <td>5.263250</td>\n",
       "      <td>2.954750</td>\n",
       "      <td>2.690750</td>\n",
       "      <td>5.044500</td>\n",
       "      <td>1.000000</td>\n",
       "    </tr>\n",
       "    <tr>\n",
       "      <th>50%</th>\n",
       "      <td>14.380000</td>\n",
       "      <td>14.320000</td>\n",
       "      <td>0.874800</td>\n",
       "      <td>5.530500</td>\n",
       "      <td>3.237000</td>\n",
       "      <td>3.559500</td>\n",
       "      <td>5.220500</td>\n",
       "      <td>2.000000</td>\n",
       "    </tr>\n",
       "    <tr>\n",
       "      <th>75%</th>\n",
       "      <td>17.562500</td>\n",
       "      <td>15.857500</td>\n",
       "      <td>0.887075</td>\n",
       "      <td>5.999500</td>\n",
       "      <td>3.571250</td>\n",
       "      <td>4.694000</td>\n",
       "      <td>5.879000</td>\n",
       "      <td>3.000000</td>\n",
       "    </tr>\n",
       "    <tr>\n",
       "      <th>max</th>\n",
       "      <td>20.880000</td>\n",
       "      <td>17.230000</td>\n",
       "      <td>0.918300</td>\n",
       "      <td>6.675000</td>\n",
       "      <td>4.032000</td>\n",
       "      <td>8.315000</td>\n",
       "      <td>6.550000</td>\n",
       "      <td>3.000000</td>\n",
       "    </tr>\n",
       "  </tbody>\n",
       "</table>\n",
       "</div>"
      ],
      "text/plain": [
       "             area   perimeter  compactness  length_kernel  width_kernel  \\\n",
       "count  158.000000  158.000000   158.000000     158.000000    158.000000   \n",
       "mean    14.893038   14.578924     0.871801       5.635443      3.264778   \n",
       "std      2.851388    1.285563     0.023034       0.442427      0.368206   \n",
       "min     10.740000   12.570000     0.808100       4.902000      2.630000   \n",
       "25%     12.315000   13.470000     0.857600       5.263250      2.954750   \n",
       "50%     14.380000   14.320000     0.874800       5.530500      3.237000   \n",
       "75%     17.562500   15.857500     0.887075       5.999500      3.571250   \n",
       "max     20.880000   17.230000     0.918300       6.675000      4.032000   \n",
       "\n",
       "       asymmetry_coeff  length_of_kernel_groove      target  \n",
       "count       158.000000               158.000000  158.000000  \n",
       "mean          3.668158                 5.407513    1.968354  \n",
       "std           1.418280                 0.498740    0.817179  \n",
       "min           0.903000                 4.519000    1.000000  \n",
       "25%           2.690750                 5.044500    1.000000  \n",
       "50%           3.559500                 5.220500    2.000000  \n",
       "75%           4.694000                 5.879000    3.000000  \n",
       "max           8.315000                 6.550000    3.000000  "
      ]
     },
     "execution_count": 2,
     "metadata": {},
     "output_type": "execute_result"
    }
   ],
   "source": [
    "df = pd.read_csv('seeds_dataset.txt', sep=\"\\t\", error_bad_lines=False, warn_bad_lines=True)\n",
    "\n",
    "# To construct the data, seven geometric parameters of wheat kernels were measured:\n",
    "# 1. area A,\n",
    "# 2. perimeter P,\n",
    "# 3. compactness C = 4*pi*A/P^2,\n",
    "# 4. length of kernel,\n",
    "# 5. width of kernel,\n",
    "# 6. asymmetry coefficient\n",
    "# 7. length of kernel groove.\n",
    "\n",
    "# target (three different varieties of wheat): Kama (1), Rosa (2) and Canadian (3)\n",
    "df.columns=['area','perimeter','compactness','length_kernel','width_kernel','asymmetry_coeff','length_of_kernel_groove','target']\n",
    "# train_test splitting the data to 80/20 train/test \n",
    "seeds_train, seeds_test = train_test_split(df, test_size=0.20, random_state=275, shuffle=True)\n",
    "\n",
    "df_raw = seeds_train\n",
    "\n",
    "df_raw.describe()"
   ]
  },
  {
   "cell_type": "markdown",
   "id": "sound-bermuda",
   "metadata": {},
   "source": [
    "### Preprocessing for Seed Training Dataset"
   ]
  },
  {
   "cell_type": "code",
   "execution_count": 3,
   "id": "genuine-calculator",
   "metadata": {},
   "outputs": [
    {
     "name": "stdout",
     "output_type": "stream",
     "text": [
      "Before outlier removal:  (158, 8)\n",
      "After outlier removal:  (155, 8)\n",
      "Num of NaN:  Empty DataFrame\n",
      "Columns: [area, perimeter, compactness, length_kernel, width_kernel, asymmetry_coeff, length_of_kernel_groove, target]\n",
      "Index: []\n"
     ]
    },
    {
     "name": "stderr",
     "output_type": "stream",
     "text": [
      "<ipython-input-3-b88724816933>:19: SettingWithCopyWarning: \n",
      "A value is trying to be set on a copy of a slice from a DataFrame.\n",
      "Try using .loc[row_indexer,col_indexer] = value instead\n",
      "\n",
      "See the caveats in the documentation: https://pandas.pydata.org/pandas-docs/stable/user_guide/indexing.html#returning-a-view-versus-a-copy\n",
      "  df_preprocessed[col_to_norm] = scaler.transform(df_preprocessed[col_to_norm])\n",
      "/Library/Frameworks/Python.framework/Versions/3.8/lib/python3.8/site-packages/pandas/core/indexing.py:1737: SettingWithCopyWarning: \n",
      "A value is trying to be set on a copy of a slice from a DataFrame.\n",
      "Try using .loc[row_indexer,col_indexer] = value instead\n",
      "\n",
      "See the caveats in the documentation: https://pandas.pydata.org/pandas-docs/stable/user_guide/indexing.html#returning-a-view-versus-a-copy\n",
      "  self._setitem_single_column(loc, value[:, i].tolist(), pi)\n"
     ]
    },
    {
     "data": {
      "text/html": [
       "<div>\n",
       "<style scoped>\n",
       "    .dataframe tbody tr th:only-of-type {\n",
       "        vertical-align: middle;\n",
       "    }\n",
       "\n",
       "    .dataframe tbody tr th {\n",
       "        vertical-align: top;\n",
       "    }\n",
       "\n",
       "    .dataframe thead th {\n",
       "        text-align: right;\n",
       "    }\n",
       "</style>\n",
       "<table border=\"1\" class=\"dataframe\">\n",
       "  <thead>\n",
       "    <tr style=\"text-align: right;\">\n",
       "      <th></th>\n",
       "      <th>area</th>\n",
       "      <th>perimeter</th>\n",
       "      <th>compactness</th>\n",
       "      <th>length_kernel</th>\n",
       "      <th>width_kernel</th>\n",
       "      <th>asymmetry_coeff</th>\n",
       "      <th>length_of_kernel_groove</th>\n",
       "      <th>target</th>\n",
       "    </tr>\n",
       "  </thead>\n",
       "  <tbody>\n",
       "    <tr>\n",
       "      <th>95</th>\n",
       "      <td>0.559172</td>\n",
       "      <td>0.575107</td>\n",
       "      <td>0.687992</td>\n",
       "      <td>0.460237</td>\n",
       "      <td>0.638374</td>\n",
       "      <td>0.500529</td>\n",
       "      <td>0.541113</td>\n",
       "      <td>2</td>\n",
       "    </tr>\n",
       "    <tr>\n",
       "      <th>94</th>\n",
       "      <td>0.786982</td>\n",
       "      <td>0.809013</td>\n",
       "      <td>0.632874</td>\n",
       "      <td>0.742809</td>\n",
       "      <td>0.751783</td>\n",
       "      <td>0.194079</td>\n",
       "      <td>0.776957</td>\n",
       "      <td>2</td>\n",
       "    </tr>\n",
       "    <tr>\n",
       "      <th>35</th>\n",
       "      <td>0.400394</td>\n",
       "      <td>0.418455</td>\n",
       "      <td>0.645669</td>\n",
       "      <td>0.425268</td>\n",
       "      <td>0.469330</td>\n",
       "      <td>0.333635</td>\n",
       "      <td>0.388971</td>\n",
       "      <td>1</td>\n",
       "    </tr>\n",
       "    <tr>\n",
       "      <th>80</th>\n",
       "      <td>0.742604</td>\n",
       "      <td>0.755365</td>\n",
       "      <td>0.691929</td>\n",
       "      <td>0.716864</td>\n",
       "      <td>0.728245</td>\n",
       "      <td>0.232593</td>\n",
       "      <td>0.826194</td>\n",
       "      <td>2</td>\n",
       "    </tr>\n",
       "    <tr>\n",
       "      <th>61</th>\n",
       "      <td>0.211045</td>\n",
       "      <td>0.199571</td>\n",
       "      <td>0.700787</td>\n",
       "      <td>0.133672</td>\n",
       "      <td>0.348787</td>\n",
       "      <td>0.218849</td>\n",
       "      <td>0.043328</td>\n",
       "      <td>1</td>\n",
       "    </tr>\n",
       "    <tr>\n",
       "      <th>...</th>\n",
       "      <td>...</td>\n",
       "      <td>...</td>\n",
       "      <td>...</td>\n",
       "      <td>...</td>\n",
       "      <td>...</td>\n",
       "      <td>...</td>\n",
       "      <td>...</td>\n",
       "      <td>...</td>\n",
       "    </tr>\n",
       "    <tr>\n",
       "      <th>96</th>\n",
       "      <td>0.714990</td>\n",
       "      <td>0.706009</td>\n",
       "      <td>0.812008</td>\n",
       "      <td>0.557248</td>\n",
       "      <td>0.758916</td>\n",
       "      <td>0.175955</td>\n",
       "      <td>0.648941</td>\n",
       "      <td>2</td>\n",
       "    </tr>\n",
       "    <tr>\n",
       "      <th>57</th>\n",
       "      <td>0.048323</td>\n",
       "      <td>0.012876</td>\n",
       "      <td>0.662402</td>\n",
       "      <td>0.000000</td>\n",
       "      <td>0.177603</td>\n",
       "      <td>0.206313</td>\n",
       "      <td>0.090596</td>\n",
       "      <td>1</td>\n",
       "    </tr>\n",
       "    <tr>\n",
       "      <th>46</th>\n",
       "      <td>0.406312</td>\n",
       "      <td>0.450644</td>\n",
       "      <td>0.500984</td>\n",
       "      <td>0.437676</td>\n",
       "      <td>0.447932</td>\n",
       "      <td>0.185168</td>\n",
       "      <td>0.409650</td>\n",
       "      <td>1</td>\n",
       "    </tr>\n",
       "    <tr>\n",
       "      <th>58</th>\n",
       "      <td>0.159763</td>\n",
       "      <td>0.133047</td>\n",
       "      <td>0.744094</td>\n",
       "      <td>0.098139</td>\n",
       "      <td>0.293866</td>\n",
       "      <td>0.349947</td>\n",
       "      <td>0.042344</td>\n",
       "      <td>1</td>\n",
       "    </tr>\n",
       "    <tr>\n",
       "      <th>87</th>\n",
       "      <td>0.795858</td>\n",
       "      <td>0.798283</td>\n",
       "      <td>0.727362</td>\n",
       "      <td>0.772702</td>\n",
       "      <td>0.758203</td>\n",
       "      <td>0.352515</td>\n",
       "      <td>0.755293</td>\n",
       "      <td>2</td>\n",
       "    </tr>\n",
       "  </tbody>\n",
       "</table>\n",
       "<p>155 rows × 8 columns</p>\n",
       "</div>"
      ],
      "text/plain": [
       "        area  perimeter  compactness  length_kernel  width_kernel  \\\n",
       "95  0.559172   0.575107     0.687992       0.460237      0.638374   \n",
       "94  0.786982   0.809013     0.632874       0.742809      0.751783   \n",
       "35  0.400394   0.418455     0.645669       0.425268      0.469330   \n",
       "80  0.742604   0.755365     0.691929       0.716864      0.728245   \n",
       "61  0.211045   0.199571     0.700787       0.133672      0.348787   \n",
       "..       ...        ...          ...            ...           ...   \n",
       "96  0.714990   0.706009     0.812008       0.557248      0.758916   \n",
       "57  0.048323   0.012876     0.662402       0.000000      0.177603   \n",
       "46  0.406312   0.450644     0.500984       0.437676      0.447932   \n",
       "58  0.159763   0.133047     0.744094       0.098139      0.293866   \n",
       "87  0.795858   0.798283     0.727362       0.772702      0.758203   \n",
       "\n",
       "    asymmetry_coeff  length_of_kernel_groove  target  \n",
       "95         0.500529                 0.541113       2  \n",
       "94         0.194079                 0.776957       2  \n",
       "35         0.333635                 0.388971       1  \n",
       "80         0.232593                 0.826194       2  \n",
       "61         0.218849                 0.043328       1  \n",
       "..              ...                      ...     ...  \n",
       "96         0.175955                 0.648941       2  \n",
       "57         0.206313                 0.090596       1  \n",
       "46         0.185168                 0.409650       1  \n",
       "58         0.349947                 0.042344       1  \n",
       "87         0.352515                 0.755293       2  \n",
       "\n",
       "[155 rows x 8 columns]"
      ]
     },
     "execution_count": 3,
     "metadata": {},
     "output_type": "execute_result"
    }
   ],
   "source": [
    "df_preprocessed = df_raw\n",
    "\n",
    "# Remove outliers\n",
    "Q1 = df_preprocessed.quantile(0.25)\n",
    "Q3 = df_preprocessed.quantile(0.75)\n",
    "IQR = Q3 - Q1\n",
    "\n",
    "print('Before outlier removal: ', df_preprocessed.shape)\n",
    "df_preprocessed = df_preprocessed[~((df_preprocessed < (Q1 - 1.5 * IQR)) |(df_preprocessed > (Q3 + 1.5 * IQR))).any(axis=1)]\n",
    "print('After outlier removal: ', df_preprocessed.shape)\n",
    "\n",
    "# Check for any Nan\n",
    "print( \"Num of NaN: \", df_preprocessed[df_preprocessed.isna().any(1)])\n",
    "\n",
    "# Normalize the features\n",
    "col_to_norm = ['area','perimeter','compactness','length_kernel','width_kernel','asymmetry_coeff','length_of_kernel_groove']\n",
    "scaler = MinMaxScaler()\n",
    "scaler.fit(df_preprocessed[col_to_norm])\n",
    "df_preprocessed[col_to_norm] = scaler.transform(df_preprocessed[col_to_norm])\n",
    "\n",
    "df_seeds_train_preprocessed = df_preprocessed\n",
    "df_seeds_train_raw = df_raw\n",
    "df_preprocessed\n"
   ]
  },
  {
   "cell_type": "markdown",
   "id": "therapeutic-scenario",
   "metadata": {},
   "source": [
    "### Decision Tree : Seed Training Dataset without preprocessing"
   ]
  },
  {
   "cell_type": "code",
   "execution_count": 4,
   "id": "sudden-neighborhood",
   "metadata": {},
   "outputs": [
    {
     "name": "stdout",
     "output_type": "stream",
     "text": [
      "max_depth: 3 \tAccuracy: 90.50%\n",
      "max_depth: 5 \tAccuracy: 90.54%\n",
      "max_depth: 10 \tAccuracy: 91.17%\n",
      "max_depth: None \tAccuracy: 91.17%\n"
     ]
    },
    {
     "data": {
      "image/png": "[encoded data removed]",
      "text/plain": [
       "<Figure size 432x288 with 1 Axes>"
      ]
     },
     "metadata": {
      "needs_background": "light"
     },
     "output_type": "display_data"
    }
   ],
   "source": [
    "from sklearn.tree import DecisionTreeClassifier\n",
    "from sklearn.model_selection import KFold, cross_val_score\n",
    "from sklearn import tree\n",
    "\n",
    "df = df_raw\n",
    "kfold = KFold(n_splits = 10, shuffle = True, random_state=275)\n",
    "x1 = df.drop('target', axis=1).values \n",
    "y1 = df['target'].values\n",
    "\n",
    "max_depths = [3,5,10,None]\n",
    "acc = []\n",
    "\n",
    "for max_depth in max_depths:\n",
    "    d_tree = DecisionTreeClassifier(max_depth = max_depth, random_state=0)\n",
    "    results_kfold = cross_val_score(d_tree, x1, y1, cv=kfold)\n",
    "    print(\"max_depth:\", max_depth, \"\\tAccuracy: %.2f%%\" % (results_kfold.mean()*100.0))\n",
    "    acc.append(results_kfold.mean())  \n",
    "    \n",
    "\n",
    "plt.plot(range(len(max_depths)),acc, '-o')\n",
    "plt.xlabel('Max Depth')\n",
    "plt.ylabel('Accuracy')\n",
    "\n",
    "plt.xticks(ticks=range(len(max_depths)),labels=['3','5','10','None'])\n",
    "\n",
    "plt.show()"
   ]
  },
  {
   "cell_type": "markdown",
   "id": "bearing-depression",
   "metadata": {},
   "source": [
    "We can see that without preprocessing the datset, we recieve a highest accuracy of 91.17% for when max depth is 10 or None. This could yeild the same results due to the final trees matching. It's possible that even with no max depth set, the depth of the tree still goes to 10. However when selecting the best parameters, we would want to go with max depth as 10, since it's more likley that with max depth as None the model will overfit."
   ]
  },
  {
   "cell_type": "markdown",
   "id": "stupid-length",
   "metadata": {},
   "source": [
    "### Decision Trees: Seed Training Dataset with preprocessing"
   ]
  },
  {
   "cell_type": "code",
   "execution_count": 5,
   "id": "abroad-watershed",
   "metadata": {},
   "outputs": [
    {
     "name": "stdout",
     "output_type": "stream",
     "text": [
      "max_depth: 3 \tAccuracy: 91.13%\n",
      "max_depth: 5 \tAccuracy: 91.08%\n",
      "max_depth: 10 \tAccuracy: 91.71%\n",
      "max_depth: None \tAccuracy: 91.71%\n"
     ]
    },
    {
     "data": {
      "image/png": "[encoded data removed]",
      "text/plain": [
       "<Figure size 432x288 with 1 Axes>"
      ]
     },
     "metadata": {
      "needs_background": "light"
     },
     "output_type": "display_data"
    }
   ],
   "source": [
    "df = df_preprocessed\n",
    "\n",
    "kfold = KFold(n_splits = 10, shuffle = True, random_state=275)\n",
    "x1 = df.drop('target', axis=1).values \n",
    "y1 = df['target'].values\n",
    "\n",
    "max_depths = [3,5,10,None]\n",
    "acc = []\n",
    "\n",
    "for max_depth in max_depths:\n",
    "    d_tree = DecisionTreeClassifier(max_depth = max_depth, random_state=0)\n",
    "    results_kfold = cross_val_score(d_tree, x1, y1, cv=kfold)\n",
    "    print(\"max_depth:\", max_depth, \"\\tAccuracy: %.2f%%\" % (results_kfold.mean()*100.0))\n",
    "    acc.append(results_kfold.mean())  \n",
    "    \n",
    "\n",
    "plt.plot(range(len(max_depths)),acc, '-o')\n",
    "plt.xlabel('Max Depth')\n",
    "plt.ylabel('Accuracy')\n",
    "\n",
    "plt.xticks(ticks=range(len(max_depths)),labels=['3','5','10','None'])\n",
    "\n",
    "plt.show()"
   ]
  },
  {
   "cell_type": "markdown",
   "id": "abroad-paste",
   "metadata": {},
   "source": [
    "We can see that with preprocessing the datset, the dataset does better overall with a max accuracy of 91.71%. Again this is for max depth as 10 and None. For the same reason stated previously the best parameter for this model is taken as max depth equal to 10. This will hopefully prevent overfitting."
   ]
  },
  {
   "cell_type": "markdown",
   "id": "simplified-thesaurus",
   "metadata": {},
   "source": [
    "### Exploring the Decision tree for Seeds Dataset with Max_Depth of 3 of preprocessed dataset"
   ]
  },
  {
   "cell_type": "code",
   "execution_count": 6,
   "id": "solar-ethnic",
   "metadata": {},
   "outputs": [
    {
     "data": {
      "image/png": "[encoded data removed]",
      "text/plain": [
       "<Figure size 432x288 with 1 Axes>"
      ]
     },
     "metadata": {
      "needs_background": "light"
     },
     "output_type": "display_data"
    },
    {
     "data": {
      "text/plain": [
       "<Figure size 1440x1440 with 0 Axes>"
      ]
     },
     "metadata": {},
     "output_type": "display_data"
    },
    {
     "name": "stdout",
     "output_type": "stream",
     "text": [
      "|--- length_of_kernel_groove <= 0.52\n",
      "|   |--- width_kernel <= 0.28\n",
      "|   |   |--- length_kernel <= 0.02\n",
      "|   |   |   |--- class: 1\n",
      "|   |   |--- length_kernel >  0.02\n",
      "|   |   |   |--- class: 3\n",
      "|   |--- width_kernel >  0.28\n",
      "|   |   |--- area <= 0.26\n",
      "|   |   |   |--- class: 1\n",
      "|   |   |--- area >  0.26\n",
      "|   |   |   |--- class: 1\n",
      "|--- length_of_kernel_groove >  0.52\n",
      "|   |--- class: 2\n",
      "\n"
     ]
    }
   ],
   "source": [
    "max_depths = [3]\n",
    "df_col = ['area','perimeter','compactness','length_kernel','width_kernel','asymmetry_coeff','length_of_kernel_groove']\n",
    "for max_depth in max_depths:\n",
    "    d_tree = DecisionTreeClassifier(max_depth = max_depth, random_state=0)\n",
    "    results_kfold = cross_val_score(d_tree, x1, y1, cv=kfold)\n",
    "    d1_tree = d_tree.fit(x1,y1)\n",
    "    tree.plot_tree(d1_tree, fontsize=10, label = 'root', filled = True)\n",
    "    plt.figure(figsize=(20,20))\n",
    "    #plt.label(max_depth)  # set plot size (denoted in inches)\n",
    "    plt.show()\n",
    "    text_representation = tree.export_text(d1_tree, feature_names = df_col)\n",
    "    print(text_representation)"
   ]
  },
  {
   "cell_type": "markdown",
   "id": "incorporate-object",
   "metadata": {},
   "source": [
    "We can see an interesting split on the seed dataset. We see that the right side and left side of the tree are quite different with respect to depth. The right hand side is only split on one value, the classifier learned that any seed with a kernel grove length > 0.52 (after preprocessing) should be classified as target value 2.\n",
    "\n",
    "We see that any other seed where the kernel grove length is less than 0.52 (after preprocessing) will be classified as either 1 or 3. Where the main distinguishing factors is the length and width of the kernel. For the seed to be distinguished as class 3, it much have a kernel width <= 0,28 and a kernel length > 0.02 (again after preprocessing). Otherwise it will be of class 1."
   ]
  },
  {
   "cell_type": "markdown",
   "id": "christian-proposal",
   "metadata": {},
   "source": [
    "### Random Forest: Seed Training Dataset without preprocessing"
   ]
  },
  {
   "cell_type": "code",
   "execution_count": 7,
   "id": "upper-jewel",
   "metadata": {},
   "outputs": [
    {
     "name": "stdout",
     "output_type": "stream",
     "text": [
      "num_trees: 5 \tmax_depth: 3 \tAccuracy: 92.42%\n",
      "num_trees: 5 \tmax_depth: 5 \tAccuracy: 91.13%\n",
      "num_trees: 5 \tmax_depth: 10 \tAccuracy: 91.79%\n",
      "num_trees: 5 \tmax_depth: None \tAccuracy: 91.79%\n",
      "num_trees: 10 \tmax_depth: 3 \tAccuracy: 91.79%\n",
      "num_trees: 10 \tmax_depth: 5 \tAccuracy: 91.75%\n",
      "num_trees: 10 \tmax_depth: 10 \tAccuracy: 93.04%\n",
      "num_trees: 10 \tmax_depth: None \tAccuracy: 93.04%\n",
      "num_trees: 50 \tmax_depth: 3 \tAccuracy: 91.79%\n",
      "num_trees: 50 \tmax_depth: 5 \tAccuracy: 92.42%\n",
      "num_trees: 50 \tmax_depth: 10 \tAccuracy: 93.04%\n",
      "num_trees: 50 \tmax_depth: None \tAccuracy: 93.04%\n",
      "num_trees: 150 \tmax_depth: 3 \tAccuracy: 91.17%\n",
      "num_trees: 150 \tmax_depth: 5 \tAccuracy: 91.79%\n",
      "num_trees: 150 \tmax_depth: 10 \tAccuracy: 91.79%\n",
      "num_trees: 150 \tmax_depth: None \tAccuracy: 91.79%\n",
      "num_trees: 200 \tmax_depth: 3 \tAccuracy: 91.17%\n",
      "num_trees: 200 \tmax_depth: 5 \tAccuracy: 92.42%\n",
      "num_trees: 200 \tmax_depth: 10 \tAccuracy: 91.79%\n",
      "num_trees: 200 \tmax_depth: None \tAccuracy: 91.79%\n"
     ]
    },
    {
     "data": {
      "image/png": "[encoded data removed]",
      "text/plain": [
       "<Figure size 432x288 with 2 Axes>"
      ]
     },
     "metadata": {
      "needs_background": "light"
     },
     "output_type": "display_data"
    }
   ],
   "source": [
    "from sklearn.ensemble import RandomForestClassifier\n",
    "from sklearn.model_selection import KFold, cross_val_score\n",
    "df = df_raw\n",
    "kfold = KFold(n_splits = 10, shuffle = True, random_state=275)\n",
    "x1 = df.drop('target', axis=1).values \n",
    "y1 = df['target'].values\n",
    "\n",
    "num_of_trees = [5,10,50,150,200]\n",
    "max_depths = [3,5,10,None]\n",
    "acc = []\n",
    "\n",
    "for i, n_estimators in enumerate(num_of_trees):\n",
    "    acc.append([])\n",
    "    for max_depth in max_depths:\n",
    "        r_forest = RandomForestClassifier(n_estimators=n_estimators, max_depth=max_depth, random_state=0)\n",
    "        results_kfold = cross_val_score(r_forest, x1, y1, cv=kfold)\n",
    "        print(\"num_trees:\",n_estimators,\"\\tmax_depth:\", max_depth, \"\\tAccuracy: %.2f%%\" % (results_kfold.mean()*100.0)) \n",
    "        acc[i].append(results_kfold.mean())\n",
    "\n",
    "ax = sns.heatmap(acc, linewidth=0.5, cbar_kws={'label': 'Accuracy'}, yticklabels=num_of_trees, xticklabels=['3','5','10','None'])\n",
    "plt.xlabel('Max Depths')\n",
    "plt.ylabel('Number of Trees')\n",
    "plt.show()"
   ]
  },
  {
   "cell_type": "markdown",
   "id": "freelance-swiss",
   "metadata": {},
   "source": [
    "We see that for random forest without preprocessing, the highest accuracy (93.04%) was returned for a few parameters. However the one chosen will be the one that keeps the classifier as simple as possible to prevent overfitting. In this case thats when the number of trees was 10 and the max depth was 10."
   ]
  },
  {
   "cell_type": "markdown",
   "id": "concerned-median",
   "metadata": {},
   "source": [
    "### Random Forest: Seed Training Dataset with preprocessing"
   ]
  },
  {
   "cell_type": "code",
   "execution_count": 8,
   "id": "imperial-terrorist",
   "metadata": {},
   "outputs": [
    {
     "name": "stdout",
     "output_type": "stream",
     "text": [
      "num_trees: 5 \tmax_depth: 3 \tAccuracy: 92.38%\n",
      "num_trees: 5 \tmax_depth: 5 \tAccuracy: 92.33%\n",
      "num_trees: 5 \tmax_depth: 10 \tAccuracy: 92.38%\n",
      "num_trees: 5 \tmax_depth: None \tAccuracy: 92.38%\n",
      "num_trees: 10 \tmax_depth: 3 \tAccuracy: 94.25%\n",
      "num_trees: 10 \tmax_depth: 5 \tAccuracy: 93.58%\n",
      "num_trees: 10 \tmax_depth: 10 \tAccuracy: 92.33%\n",
      "num_trees: 10 \tmax_depth: None \tAccuracy: 92.33%\n",
      "num_trees: 50 \tmax_depth: 3 \tAccuracy: 93.58%\n",
      "num_trees: 50 \tmax_depth: 5 \tAccuracy: 93.62%\n",
      "num_trees: 50 \tmax_depth: 10 \tAccuracy: 93.00%\n",
      "num_trees: 50 \tmax_depth: None \tAccuracy: 93.00%\n",
      "num_trees: 150 \tmax_depth: 3 \tAccuracy: 91.63%\n",
      "num_trees: 150 \tmax_depth: 5 \tAccuracy: 92.96%\n",
      "num_trees: 150 \tmax_depth: 10 \tAccuracy: 92.33%\n",
      "num_trees: 150 \tmax_depth: None \tAccuracy: 92.33%\n",
      "num_trees: 200 \tmax_depth: 3 \tAccuracy: 92.92%\n",
      "num_trees: 200 \tmax_depth: 5 \tAccuracy: 92.96%\n",
      "num_trees: 200 \tmax_depth: 10 \tAccuracy: 92.33%\n",
      "num_trees: 200 \tmax_depth: None \tAccuracy: 92.33%\n"
     ]
    },
    {
     "data": {
      "image/png": "[encoded data removed]",
      "text/plain": [
       "<Figure size 432x288 with 2 Axes>"
      ]
     },
     "metadata": {
      "needs_background": "light"
     },
     "output_type": "display_data"
    }
   ],
   "source": [
    "df = df_preprocessed\n",
    "kfold = KFold(n_splits = 10, shuffle = True, random_state=275)\n",
    "x1 = df.drop('target', axis=1).values \n",
    "y1 = df['target'].values\n",
    "\n",
    "num_of_trees = [5,10,50,150,200]\n",
    "max_depths = [3,5,10,None]\n",
    "acc = []\n",
    "\n",
    "for i, n_estimators in enumerate(num_of_trees):\n",
    "    acc.append([])\n",
    "    for max_depth in max_depths:\n",
    "        r_forest = RandomForestClassifier(n_estimators=n_estimators, max_depth=max_depth, random_state=0)\n",
    "        results_kfold = cross_val_score(r_forest, x1, y1, cv=kfold)\n",
    "        print(\"num_trees:\",n_estimators,\"\\tmax_depth:\", max_depth, \"\\tAccuracy: %.2f%%\" % (results_kfold.mean()*100.0)) \n",
    "        acc[i].append(results_kfold.mean())\n",
    "\n",
    "ax = sns.heatmap(acc, linewidth=0.5, cbar_kws={'label': 'Accuracy'}, yticklabels=num_of_trees, xticklabels=['3','5','10','None'])\n",
    "plt.xlabel('Max Depths')\n",
    "plt.ylabel('Number of Trees')\n",
    "plt.show()"
   ]
  },
  {
   "cell_type": "markdown",
   "id": "boxed-broadway",
   "metadata": {},
   "source": [
    "We see that for random forest with preprocessing, the highest accuracy 93.62% was returned for a max depth of 3 and 10 trees."
   ]
  },
  {
   "cell_type": "markdown",
   "id": "geographic-premiere",
   "metadata": {},
   "source": [
    "### Gradient Tree Boost: Seed Trainging Dataset without preprocessing"
   ]
  },
  {
   "cell_type": "code",
   "execution_count": 9,
   "id": "perceived-newport",
   "metadata": {},
   "outputs": [
    {
     "name": "stdout",
     "output_type": "stream",
     "text": [
      "num_estimators: 5 \tAccuracy: 91.79%\n",
      "num_estimators: 10 \tAccuracy: 91.79%\n",
      "num_estimators: 50 \tAccuracy: 94.92%\n",
      "num_estimators: 150 \tAccuracy: 94.29%\n",
      "num_estimators: 200 \tAccuracy: 94.29%\n"
     ]
    },
    {
     "data": {
      "image/png": "[encoded data removed]",
      "text/plain": [
       "<Figure size 432x288 with 1 Axes>"
      ]
     },
     "metadata": {
      "needs_background": "light"
     },
     "output_type": "display_data"
    }
   ],
   "source": [
    "from sklearn.ensemble import GradientBoostingClassifier\n",
    "from sklearn.model_selection import KFold, cross_val_score\n",
    "\n",
    "df = df_raw\n",
    "\n",
    "kfold = KFold(n_splits = 10, shuffle = True, random_state=275)\n",
    "x1 = df.drop('target', axis=1).values \n",
    "y1 = df['target'].values\n",
    "\n",
    "num_of_estimators = [5,10,50,150,200]\n",
    "acc = []\n",
    "\n",
    "for n_estimators in num_of_estimators:\n",
    "    gboost = GradientBoostingClassifier(n_estimators=n_estimators, random_state=0)\n",
    "    results_kfold = cross_val_score(gboost, x1, y1, cv=kfold)\n",
    "    print(\"num_estimators:\", n_estimators, \"\\tAccuracy: %.2f%%\" % (results_kfold.mean()*100.0))\n",
    "    acc.append(results_kfold.mean()) \n",
    "\n",
    "plt.plot(range(len(num_of_estimators)),acc, '-o')\n",
    "plt.xlabel('Number of Estimators')\n",
    "plt.ylabel('Accuracy')\n",
    "plt.xticks(ticks=range(len(num_of_estimators)), labels=num_of_estimators)\n",
    "\n",
    "plt.show()"
   ]
  },
  {
   "cell_type": "markdown",
   "id": "settled-peninsula",
   "metadata": {},
   "source": [
    "Here we see that the highest accuracy of 94.92% was returned for 3 different parameters. However the best parameter we'll take is when number of estimators is set to 50. Which yields 150 trees within the classifier (num classes * num estimator)"
   ]
  },
  {
   "cell_type": "markdown",
   "id": "ready-eugene",
   "metadata": {},
   "source": [
    "### Gradient Tree Boost: Seed Training Dataset with preprocessing"
   ]
  },
  {
   "cell_type": "code",
   "execution_count": 10,
   "id": "severe-electronics",
   "metadata": {},
   "outputs": [
    {
     "name": "stdout",
     "output_type": "stream",
     "text": [
      "num_estimators: 5 \tAccuracy: 91.67%\n",
      "num_estimators: 10 \tAccuracy: 91.67%\n",
      "num_estimators: 50 \tAccuracy: 93.58%\n",
      "num_estimators: 150 \tAccuracy: 93.62%\n",
      "num_estimators: 200 \tAccuracy: 92.92%\n"
     ]
    },
    {
     "data": {
      "image/png": "[encoded data removed]",
      "text/plain": [
       "<Figure size 432x288 with 1 Axes>"
      ]
     },
     "metadata": {
      "needs_background": "light"
     },
     "output_type": "display_data"
    }
   ],
   "source": [
    "df = df_preprocessed\n",
    "\n",
    "kfold = KFold(n_splits = 10, shuffle = True, random_state=275)\n",
    "x1 = df.drop('target', axis=1).values \n",
    "y1 = df['target'].values\n",
    "\n",
    "num_of_estimators = [5,10,50,150,200]\n",
    "acc = []\n",
    "\n",
    "for n_estimators in num_of_estimators:\n",
    "    gboost = GradientBoostingClassifier(n_estimators=n_estimators, random_state=0)\n",
    "    results_kfold = cross_val_score(gboost, x1, y1, cv=kfold)\n",
    "    print(\"num_estimators:\", n_estimators, \"\\tAccuracy: %.2f%%\" % (results_kfold.mean()*100.0))\n",
    "    acc.append(results_kfold.mean()) \n",
    "\n",
    "plt.plot(range(len(num_of_estimators)),acc, '-o')\n",
    "plt.xlabel('Number of Estimators')\n",
    "plt.ylabel('Accuracy')\n",
    "plt.xticks(ticks=range(len(num_of_estimators)), labels=num_of_estimators)\n",
    "\n",
    "plt.show()"
   ]
  },
  {
   "cell_type": "markdown",
   "id": "exterior-vacuum",
   "metadata": {},
   "source": [
    "Here we see that the highest accuracy of 93.62% was returned for when number of estimators is set to 150. Which yields 450 trees within the classifier (num classes * num estimator)"
   ]
  }
 ],
 "metadata": {
  "kernelspec": {
   "display_name": "Python 3",
   "language": "python",
   "name": "python3"
  },
  "language_info": {
   "codemirror_mode": {
    "name": "ipython",
    "version": 3
   },
   "file_extension": ".py",
   "mimetype": "text/x-python",
   "name": "python",
   "nbconvert_exporter": "python",
   "pygments_lexer": "ipython3",
   "version": "3.8.7"
  }
 },
 "nbformat": 4,
 "nbformat_minor": 5
}
